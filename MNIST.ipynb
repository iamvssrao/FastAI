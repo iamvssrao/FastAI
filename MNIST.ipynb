{
  "nbformat": 4,
  "nbformat_minor": 0,
  "metadata": {
    "colab": {
      "provenance": [],
      "authorship_tag": "ABX9TyOcKPksfw2YMMP+AV8jAsre",
      "include_colab_link": true
    },
    "kernelspec": {
      "name": "python3",
      "display_name": "Python 3"
    },
    "language_info": {
      "name": "python"
    }
  },
  "cells": [
    {
      "cell_type": "markdown",
      "metadata": {
        "id": "view-in-github",
        "colab_type": "text"
      },
      "source": [
        "<a href=\"https://colab.research.google.com/github/iamvssrao/FastAI/blob/main/MNIST.ipynb\" target=\"_parent\"><img src=\"https://colab.research.google.com/assets/colab-badge.svg\" alt=\"Open In Colab\"/></a>"
      ]
    },
    {
      "cell_type": "code",
      "execution_count": 3,
      "metadata": {
        "id": "V8mvU_PyYzSl"
      },
      "outputs": [],
      "source": [
        "! [ -e /content ] && pip install -Uqq fastbook\n",
        "import fastbook"
      ]
    },
    {
      "cell_type": "code",
      "source": [
        "from fastai.vision.all import *\n",
        "from fastbook import *"
      ],
      "metadata": {
        "id": "gOASyQQIZG4K"
      },
      "execution_count": 4,
      "outputs": []
    },
    {
      "cell_type": "code",
      "source": [
        "path = untar_data(URLs.MNIST_SAMPLE)"
      ],
      "metadata": {
        "colab": {
          "base_uri": "https://localhost:8080/",
          "height": 37
        },
        "id": "Tefo7BeUbYwn",
        "outputId": "0614cbef-b7eb-404b-b5d3-1f19415f2a43"
      },
      "execution_count": 5,
      "outputs": [
        {
          "output_type": "display_data",
          "data": {
            "text/plain": [
              "<IPython.core.display.HTML object>"
            ],
            "text/html": [
              "\n",
              "<style>\n",
              "    /* Turns off some styling */\n",
              "    progress {\n",
              "        /* gets rid of default border in Firefox and Opera. */\n",
              "        border: none;\n",
              "        /* Needs to be in here for Safari polyfill so background images work as expected. */\n",
              "        background-size: auto;\n",
              "    }\n",
              "    progress:not([value]), progress:not([value])::-webkit-progress-bar {\n",
              "        background: repeating-linear-gradient(45deg, #7e7e7e, #7e7e7e 10px, #5c5c5c 10px, #5c5c5c 20px);\n",
              "    }\n",
              "    .progress-bar-interrupted, .progress-bar-interrupted::-webkit-progress-bar {\n",
              "        background: #F44336;\n",
              "    }\n",
              "</style>\n"
            ]
          },
          "metadata": {}
        },
        {
          "output_type": "display_data",
          "data": {
            "text/plain": [
              "<IPython.core.display.HTML object>"
            ],
            "text/html": [
              "\n",
              "    <div>\n",
              "      <progress value='3219456' class='' max='3214948' style='width:300px; height:20px; vertical-align: middle;'></progress>\n",
              "      100.14% [3219456/3214948 00:00&lt;00:00]\n",
              "    </div>\n",
              "    "
            ]
          },
          "metadata": {}
        }
      ]
    },
    {
      "cell_type": "code",
      "source": [
        "path\n"
      ],
      "metadata": {
        "colab": {
          "base_uri": "https://localhost:8080/"
        },
        "id": "iqCmfgQlbbDP",
        "outputId": "c2de9cf8-9b29-4107-f89f-d760e0386a3f"
      },
      "execution_count": 6,
      "outputs": [
        {
          "output_type": "execute_result",
          "data": {
            "text/plain": [
              "Path('/root/.fastai/data/mnist_sample')"
            ]
          },
          "metadata": {},
          "execution_count": 6
        }
      ]
    },
    {
      "cell_type": "code",
      "source": [
        "Path.BASE_PATH = path"
      ],
      "metadata": {
        "id": "AXnwmgKVbfL9"
      },
      "execution_count": 7,
      "outputs": []
    },
    {
      "cell_type": "code",
      "source": [
        "!ls\n"
      ],
      "metadata": {
        "colab": {
          "base_uri": "https://localhost:8080/"
        },
        "id": "CuSb_0G6bgxe",
        "outputId": "febeb017-ad81-45f8-ddf5-ba326e04c0f9"
      },
      "execution_count": 8,
      "outputs": [
        {
          "output_type": "stream",
          "name": "stdout",
          "text": [
            "sample_data\n"
          ]
        }
      ]
    },
    {
      "cell_type": "code",
      "source": [
        "!cd sample_data && ls"
      ],
      "metadata": {
        "colab": {
          "base_uri": "https://localhost:8080/"
        },
        "id": "lzIp9gL_biUl",
        "outputId": "5fd6b235-2cba-4d36-9f59-a90ec4d1ad8c"
      },
      "execution_count": 9,
      "outputs": [
        {
          "output_type": "stream",
          "name": "stdout",
          "text": [
            "anscombe.json\t\t      mnist_test.csv\n",
            "california_housing_test.csv   mnist_train_small.csv\n",
            "california_housing_train.csv  README.md\n"
          ]
        }
      ]
    },
    {
      "cell_type": "code",
      "source": [
        "path.ls()\n"
      ],
      "metadata": {
        "colab": {
          "base_uri": "https://localhost:8080/"
        },
        "id": "AL2PIMcEbqXN",
        "outputId": "854c5b9f-dd5b-4eba-f920-6983e6c6788f"
      },
      "execution_count": 10,
      "outputs": [
        {
          "output_type": "execute_result",
          "data": {
            "text/plain": [
              "(#3) [Path('valid'),Path('train'),Path('labels.csv')]"
            ]
          },
          "metadata": {},
          "execution_count": 10
        }
      ]
    },
    {
      "cell_type": "code",
      "source": [
        "(path/\"train\").ls()"
      ],
      "metadata": {
        "colab": {
          "base_uri": "https://localhost:8080/"
        },
        "id": "QA4RTdI2byY-",
        "outputId": "6c0b5873-2d1c-4112-aa87-a73814ed080b"
      },
      "execution_count": 11,
      "outputs": [
        {
          "output_type": "execute_result",
          "data": {
            "text/plain": [
              "(#2) [Path('train/7'),Path('train/3')]"
            ]
          },
          "metadata": {},
          "execution_count": 11
        }
      ]
    },
    {
      "cell_type": "code",
      "source": [
        "threes = (path/'train'/'3').ls().sorted()\n",
        "sevens = (path/'train'/'7').ls().sorted()"
      ],
      "metadata": {
        "id": "lCAafHPYb-tX"
      },
      "execution_count": 12,
      "outputs": []
    },
    {
      "cell_type": "code",
      "source": [
        "len(threes), len(sevens)"
      ],
      "metadata": {
        "colab": {
          "base_uri": "https://localhost:8080/"
        },
        "id": "P-uC7MoLcCY1",
        "outputId": "bdb2907f-36cd-490a-9e49-d13a783cf4de"
      },
      "execution_count": 13,
      "outputs": [
        {
          "output_type": "execute_result",
          "data": {
            "text/plain": [
              "(6131, 6265)"
            ]
          },
          "metadata": {},
          "execution_count": 13
        }
      ]
    },
    {
      "cell_type": "code",
      "source": [
        "im3_path = sevens[4]\n",
        "im3 = Image.open(im3_path)\n",
        "im3"
      ],
      "metadata": {
        "colab": {
          "base_uri": "https://localhost:8080/",
          "height": 45
        },
        "id": "S4IvGa4KcMKu",
        "outputId": "fe3a8f2e-badd-4a99-be61-be07f4119d4c"
      },
      "execution_count": 14,
      "outputs": [
        {
          "output_type": "execute_result",
          "data": {
            "text/plain": [
              "<PIL.PngImagePlugin.PngImageFile image mode=L size=28x28>"
            ],
            "image/png": "[encoded data removed]",
            "image/jpeg": "[encoded data removed]"
          },
          "metadata": {},
          "execution_count": 14
        }
      ]
    },
    {
      "cell_type": "code",
      "source": [
        "im3_t = tensor(im3)\n",
        "df = pd.DataFrame(im3_t[4:15,4:22])\n",
        "df.style.set_properties(**{'font-size':'6pt'}).background_gradient('Greys')"
      ],
      "metadata": {
        "colab": {
          "base_uri": "https://localhost:8080/",
          "height": 394
        },
        "id": "_mODEPidcPde",
        "outputId": "6814a15a-da6e-4690-cb3a-95f21d42d245"
      },
      "execution_count": 15,
      "outputs": [
        {
          "output_type": "execute_result",
          "data": {
            "text/plain": [
              "<pandas.io.formats.style.Styler at 0x7a3ef8612250>"
            ],
            "text/html": [
              "<style type=\"text/css\">\n",
              "#T_d7b0f_row0_col0, #T_d7b0f_row0_col1, #T_d7b0f_row0_col2, #T_d7b0f_row0_col3, #T_d7b0f_row0_col4, #T_d7b0f_row0_col5, #T_d7b0f_row0_col6, #T_d7b0f_row0_col7, #T_d7b0f_row0_col8, #T_d7b0f_row0_col9, #T_d7b0f_row0_col10, #T_d7b0f_row0_col11, #T_d7b0f_row0_col12, #T_d7b0f_row0_col13, #T_d7b0f_row0_col14, #T_d7b0f_row0_col15, #T_d7b0f_row0_col16, #T_d7b0f_row0_col17, #T_d7b0f_row1_col0, #T_d7b0f_row1_col1, #T_d7b0f_row1_col2, #T_d7b0f_row1_col3, #T_d7b0f_row1_col4, #T_d7b0f_row1_col5, #T_d7b0f_row1_col6, #T_d7b0f_row1_col7, #T_d7b0f_row1_col8, #T_d7b0f_row1_col9, #T_d7b0f_row1_col10, #T_d7b0f_row1_col11, #T_d7b0f_row1_col12, #T_d7b0f_row1_col13, #T_d7b0f_row1_col14, #T_d7b0f_row1_col15, #T_d7b0f_row1_col16, #T_d7b0f_row1_col17, #T_d7b0f_row2_col0, #T_d7b0f_row2_col1, #T_d7b0f_row2_col2, #T_d7b0f_row2_col3, #T_d7b0f_row2_col4, #T_d7b0f_row2_col5, #T_d7b0f_row2_col6, #T_d7b0f_row2_col7, #T_d7b0f_row2_col8, #T_d7b0f_row2_col9, #T_d7b0f_row2_col10, #T_d7b0f_row2_col11, #T_d7b0f_row2_col12, #T_d7b0f_row2_col13, #T_d7b0f_row2_col14, #T_d7b0f_row2_col15, #T_d7b0f_row2_col16, #T_d7b0f_row2_col17, #T_d7b0f_row3_col0, #T_d7b0f_row3_col1, #T_d7b0f_row3_col2, #T_d7b0f_row3_col3, #T_d7b0f_row3_col4, #T_d7b0f_row3_col5, #T_d7b0f_row3_col6, #T_d7b0f_row3_col7, #T_d7b0f_row3_col8, #T_d7b0f_row3_col9, #T_d7b0f_row3_col10, #T_d7b0f_row3_col11, #T_d7b0f_row3_col12, #T_d7b0f_row4_col0, #T_d7b0f_row4_col1, #T_d7b0f_row4_col2, #T_d7b0f_row4_col3, #T_d7b0f_row4_col4, #T_d7b0f_row4_col5, #T_d7b0f_row4_col6, #T_d7b0f_row4_col7, #T_d7b0f_row4_col8, #T_d7b0f_row5_col0, #T_d7b0f_row5_col1, #T_d7b0f_row5_col2, #T_d7b0f_row5_col3, #T_d7b0f_row5_col4, #T_d7b0f_row5_col5, #T_d7b0f_row6_col0, #T_d7b0f_row6_col1, #T_d7b0f_row6_col2, #T_d7b0f_row6_col3, #T_d7b0f_row7_col0, #T_d7b0f_row7_col1, #T_d7b0f_row7_col2, #T_d7b0f_row7_col3, #T_d7b0f_row7_col12, #T_d7b0f_row7_col13, #T_d7b0f_row7_col17, #T_d7b0f_row8_col0, #T_d7b0f_row8_col1, #T_d7b0f_row8_col2, #T_d7b0f_row8_col3, #T_d7b0f_row8_col9, #T_d7b0f_row8_col10, #T_d7b0f_row8_col11, #T_d7b0f_row8_col12, #T_d7b0f_row8_col17, #T_d7b0f_row9_col0, #T_d7b0f_row9_col1, #T_d7b0f_row9_col2, #T_d7b0f_row9_col3, #T_d7b0f_row9_col7, #T_d7b0f_row9_col8, #T_d7b0f_row9_col9, #T_d7b0f_row9_col10, #T_d7b0f_row9_col11, #T_d7b0f_row9_col12, #T_d7b0f_row9_col16, #T_d7b0f_row9_col17, #T_d7b0f_row10_col0, #T_d7b0f_row10_col1, #T_d7b0f_row10_col2, #T_d7b0f_row10_col3, #T_d7b0f_row10_col4, #T_d7b0f_row10_col5, #T_d7b0f_row10_col6, #T_d7b0f_row10_col7, #T_d7b0f_row10_col8, #T_d7b0f_row10_col9, #T_d7b0f_row10_col10, #T_d7b0f_row10_col11, #T_d7b0f_row10_col16, #T_d7b0f_row10_col17 {\n",
              "  font-size: 6pt;\n",
              "  background-color: #ffffff;\n",
              "  color: #000000;\n",
              "}\n",
              "#T_d7b0f_row3_col13, #T_d7b0f_row5_col6, #T_d7b0f_row6_col4, #T_d7b0f_row6_col17, #T_d7b0f_row8_col13, #T_d7b0f_row8_col16 {\n",
              "  font-size: 6pt;\n",
              "  background-color: #d9d9d9;\n",
              "  color: #000000;\n",
              "}\n",
              "#T_d7b0f_row3_col14, #T_d7b0f_row4_col9, #T_d7b0f_row4_col11, #T_d7b0f_row5_col7, #T_d7b0f_row6_col13, #T_d7b0f_row6_col14, #T_d7b0f_row7_col11, #T_d7b0f_row8_col8, #T_d7b0f_row10_col12, #T_d7b0f_row10_col15 {\n",
              "  font-size: 6pt;\n",
              "  background-color: #959595;\n",
              "  color: #f1f1f1;\n",
              "}\n",
              "#T_d7b0f_row3_col15, #T_d7b0f_row3_col17, #T_d7b0f_row4_col10, #T_d7b0f_row6_col5, #T_d7b0f_row6_col12, #T_d7b0f_row7_col10, #T_d7b0f_row9_col4, #T_d7b0f_row9_col6, #T_d7b0f_row9_col13 {\n",
              "  font-size: 6pt;\n",
              "  background-color: #525252;\n",
              "  color: #f1f1f1;\n",
              "}\n",
              "#T_d7b0f_row3_col16, #T_d7b0f_row4_col12, #T_d7b0f_row4_col13, #T_d7b0f_row4_col14, #T_d7b0f_row4_col15, #T_d7b0f_row4_col16, #T_d7b0f_row4_col17, #T_d7b0f_row5_col8, #T_d7b0f_row5_col9, #T_d7b0f_row5_col10, #T_d7b0f_row5_col11, #T_d7b0f_row5_col12, #T_d7b0f_row5_col13, #T_d7b0f_row5_col14, #T_d7b0f_row5_col15, #T_d7b0f_row5_col16, #T_d7b0f_row5_col17, #T_d7b0f_row6_col6, #T_d7b0f_row6_col7, #T_d7b0f_row6_col8, #T_d7b0f_row6_col9, #T_d7b0f_row6_col10, #T_d7b0f_row6_col11, #T_d7b0f_row6_col15, #T_d7b0f_row6_col16, #T_d7b0f_row7_col4, #T_d7b0f_row7_col5, #T_d7b0f_row7_col6, #T_d7b0f_row7_col7, #T_d7b0f_row7_col8, #T_d7b0f_row7_col9, #T_d7b0f_row7_col14, #T_d7b0f_row7_col15, #T_d7b0f_row7_col16, #T_d7b0f_row8_col4, #T_d7b0f_row8_col5, #T_d7b0f_row8_col6, #T_d7b0f_row8_col7, #T_d7b0f_row8_col14, #T_d7b0f_row8_col15, #T_d7b0f_row9_col5, #T_d7b0f_row9_col14, #T_d7b0f_row9_col15, #T_d7b0f_row10_col13, #T_d7b0f_row10_col14 {\n",
              "  font-size: 6pt;\n",
              "  background-color: #000000;\n",
              "  color: #f1f1f1;\n",
              "}\n",
              "</style>\n",
              "<table id=\"T_d7b0f\" class=\"dataframe\">\n",
              "  <thead>\n",
              "    <tr>\n",
              "      <th class=\"blank level0\" >&nbsp;</th>\n",
              "      <th id=\"T_d7b0f_level0_col0\" class=\"col_heading level0 col0\" >0</th>\n",
              "      <th id=\"T_d7b0f_level0_col1\" class=\"col_heading level0 col1\" >1</th>\n",
              "      <th id=\"T_d7b0f_level0_col2\" class=\"col_heading level0 col2\" >2</th>\n",
              "      <th id=\"T_d7b0f_level0_col3\" class=\"col_heading level0 col3\" >3</th>\n",
              "      <th id=\"T_d7b0f_level0_col4\" class=\"col_heading level0 col4\" >4</th>\n",
              "      <th id=\"T_d7b0f_level0_col5\" class=\"col_heading level0 col5\" >5</th>\n",
              "      <th id=\"T_d7b0f_level0_col6\" class=\"col_heading level0 col6\" >6</th>\n",
              "      <th id=\"T_d7b0f_level0_col7\" class=\"col_heading level0 col7\" >7</th>\n",
              "      <th id=\"T_d7b0f_level0_col8\" class=\"col_heading level0 col8\" >8</th>\n",
              "      <th id=\"T_d7b0f_level0_col9\" class=\"col_heading level0 col9\" >9</th>\n",
              "      <th id=\"T_d7b0f_level0_col10\" class=\"col_heading level0 col10\" >10</th>\n",
              "      <th id=\"T_d7b0f_level0_col11\" class=\"col_heading level0 col11\" >11</th>\n",
              "      <th id=\"T_d7b0f_level0_col12\" class=\"col_heading level0 col12\" >12</th>\n",
              "      <th id=\"T_d7b0f_level0_col13\" class=\"col_heading level0 col13\" >13</th>\n",
              "      <th id=\"T_d7b0f_level0_col14\" class=\"col_heading level0 col14\" >14</th>\n",
              "      <th id=\"T_d7b0f_level0_col15\" class=\"col_heading level0 col15\" >15</th>\n",
              "      <th id=\"T_d7b0f_level0_col16\" class=\"col_heading level0 col16\" >16</th>\n",
              "      <th id=\"T_d7b0f_level0_col17\" class=\"col_heading level0 col17\" >17</th>\n",
              "    </tr>\n",
              "  </thead>\n",
              "  <tbody>\n",
              "    <tr>\n",
              "      <th id=\"T_d7b0f_level0_row0\" class=\"row_heading level0 row0\" >0</th>\n",
              "      <td id=\"T_d7b0f_row0_col0\" class=\"data row0 col0\" >0</td>\n",
              "      <td id=\"T_d7b0f_row0_col1\" class=\"data row0 col1\" >0</td>\n",
              "      <td id=\"T_d7b0f_row0_col2\" class=\"data row0 col2\" >0</td>\n",
              "      <td id=\"T_d7b0f_row0_col3\" class=\"data row0 col3\" >0</td>\n",
              "      <td id=\"T_d7b0f_row0_col4\" class=\"data row0 col4\" >0</td>\n",
              "      <td id=\"T_d7b0f_row0_col5\" class=\"data row0 col5\" >0</td>\n",
              "      <td id=\"T_d7b0f_row0_col6\" class=\"data row0 col6\" >0</td>\n",
              "      <td id=\"T_d7b0f_row0_col7\" class=\"data row0 col7\" >0</td>\n",
              "      <td id=\"T_d7b0f_row0_col8\" class=\"data row0 col8\" >0</td>\n",
              "      <td id=\"T_d7b0f_row0_col9\" class=\"data row0 col9\" >0</td>\n",
              "      <td id=\"T_d7b0f_row0_col10\" class=\"data row0 col10\" >0</td>\n",
              "      <td id=\"T_d7b0f_row0_col11\" class=\"data row0 col11\" >0</td>\n",
              "      <td id=\"T_d7b0f_row0_col12\" class=\"data row0 col12\" >0</td>\n",
              "      <td id=\"T_d7b0f_row0_col13\" class=\"data row0 col13\" >0</td>\n",
              "      <td id=\"T_d7b0f_row0_col14\" class=\"data row0 col14\" >0</td>\n",
              "      <td id=\"T_d7b0f_row0_col15\" class=\"data row0 col15\" >0</td>\n",
              "      <td id=\"T_d7b0f_row0_col16\" class=\"data row0 col16\" >0</td>\n",
              "      <td id=\"T_d7b0f_row0_col17\" class=\"data row0 col17\" >0</td>\n",
              "    </tr>\n",
              "    <tr>\n",
              "      <th id=\"T_d7b0f_level0_row1\" class=\"row_heading level0 row1\" >1</th>\n",
              "      <td id=\"T_d7b0f_row1_col0\" class=\"data row1 col0\" >0</td>\n",
              "      <td id=\"T_d7b0f_row1_col1\" class=\"data row1 col1\" >0</td>\n",
              "      <td id=\"T_d7b0f_row1_col2\" class=\"data row1 col2\" >0</td>\n",
              "      <td id=\"T_d7b0f_row1_col3\" class=\"data row1 col3\" >0</td>\n",
              "      <td id=\"T_d7b0f_row1_col4\" class=\"data row1 col4\" >0</td>\n",
              "      <td id=\"T_d7b0f_row1_col5\" class=\"data row1 col5\" >0</td>\n",
              "      <td id=\"T_d7b0f_row1_col6\" class=\"data row1 col6\" >0</td>\n",
              "      <td id=\"T_d7b0f_row1_col7\" class=\"data row1 col7\" >0</td>\n",
              "      <td id=\"T_d7b0f_row1_col8\" class=\"data row1 col8\" >0</td>\n",
              "      <td id=\"T_d7b0f_row1_col9\" class=\"data row1 col9\" >0</td>\n",
              "      <td id=\"T_d7b0f_row1_col10\" class=\"data row1 col10\" >0</td>\n",
              "      <td id=\"T_d7b0f_row1_col11\" class=\"data row1 col11\" >0</td>\n",
              "      <td id=\"T_d7b0f_row1_col12\" class=\"data row1 col12\" >0</td>\n",
              "      <td id=\"T_d7b0f_row1_col13\" class=\"data row1 col13\" >0</td>\n",
              "      <td id=\"T_d7b0f_row1_col14\" class=\"data row1 col14\" >0</td>\n",
              "      <td id=\"T_d7b0f_row1_col15\" class=\"data row1 col15\" >0</td>\n",
              "      <td id=\"T_d7b0f_row1_col16\" class=\"data row1 col16\" >0</td>\n",
              "      <td id=\"T_d7b0f_row1_col17\" class=\"data row1 col17\" >0</td>\n",
              "    </tr>\n",
              "    <tr>\n",
              "      <th id=\"T_d7b0f_level0_row2\" class=\"row_heading level0 row2\" >2</th>\n",
              "      <td id=\"T_d7b0f_row2_col0\" class=\"data row2 col0\" >0</td>\n",
              "      <td id=\"T_d7b0f_row2_col1\" class=\"data row2 col1\" >0</td>\n",
              "      <td id=\"T_d7b0f_row2_col2\" class=\"data row2 col2\" >0</td>\n",
              "      <td id=\"T_d7b0f_row2_col3\" class=\"data row2 col3\" >0</td>\n",
              "      <td id=\"T_d7b0f_row2_col4\" class=\"data row2 col4\" >0</td>\n",
              "      <td id=\"T_d7b0f_row2_col5\" class=\"data row2 col5\" >0</td>\n",
              "      <td id=\"T_d7b0f_row2_col6\" class=\"data row2 col6\" >0</td>\n",
              "      <td id=\"T_d7b0f_row2_col7\" class=\"data row2 col7\" >0</td>\n",
              "      <td id=\"T_d7b0f_row2_col8\" class=\"data row2 col8\" >0</td>\n",
              "      <td id=\"T_d7b0f_row2_col9\" class=\"data row2 col9\" >0</td>\n",
              "      <td id=\"T_d7b0f_row2_col10\" class=\"data row2 col10\" >0</td>\n",
              "      <td id=\"T_d7b0f_row2_col11\" class=\"data row2 col11\" >0</td>\n",
              "      <td id=\"T_d7b0f_row2_col12\" class=\"data row2 col12\" >0</td>\n",
              "      <td id=\"T_d7b0f_row2_col13\" class=\"data row2 col13\" >0</td>\n",
              "      <td id=\"T_d7b0f_row2_col14\" class=\"data row2 col14\" >0</td>\n",
              "      <td id=\"T_d7b0f_row2_col15\" class=\"data row2 col15\" >0</td>\n",
              "      <td id=\"T_d7b0f_row2_col16\" class=\"data row2 col16\" >0</td>\n",
              "      <td id=\"T_d7b0f_row2_col17\" class=\"data row2 col17\" >0</td>\n",
              "    </tr>\n",
              "    <tr>\n",
              "      <th id=\"T_d7b0f_level0_row3\" class=\"row_heading level0 row3\" >3</th>\n",
              "      <td id=\"T_d7b0f_row3_col0\" class=\"data row3 col0\" >0</td>\n",
              "      <td id=\"T_d7b0f_row3_col1\" class=\"data row3 col1\" >0</td>\n",
              "      <td id=\"T_d7b0f_row3_col2\" class=\"data row3 col2\" >0</td>\n",
              "      <td id=\"T_d7b0f_row3_col3\" class=\"data row3 col3\" >0</td>\n",
              "      <td id=\"T_d7b0f_row3_col4\" class=\"data row3 col4\" >0</td>\n",
              "      <td id=\"T_d7b0f_row3_col5\" class=\"data row3 col5\" >0</td>\n",
              "      <td id=\"T_d7b0f_row3_col6\" class=\"data row3 col6\" >0</td>\n",
              "      <td id=\"T_d7b0f_row3_col7\" class=\"data row3 col7\" >0</td>\n",
              "      <td id=\"T_d7b0f_row3_col8\" class=\"data row3 col8\" >0</td>\n",
              "      <td id=\"T_d7b0f_row3_col9\" class=\"data row3 col9\" >0</td>\n",
              "      <td id=\"T_d7b0f_row3_col10\" class=\"data row3 col10\" >0</td>\n",
              "      <td id=\"T_d7b0f_row3_col11\" class=\"data row3 col11\" >0</td>\n",
              "      <td id=\"T_d7b0f_row3_col12\" class=\"data row3 col12\" >0</td>\n",
              "      <td id=\"T_d7b0f_row3_col13\" class=\"data row3 col13\" >64</td>\n",
              "      <td id=\"T_d7b0f_row3_col14\" class=\"data row3 col14\" >128</td>\n",
              "      <td id=\"T_d7b0f_row3_col15\" class=\"data row3 col15\" >191</td>\n",
              "      <td id=\"T_d7b0f_row3_col16\" class=\"data row3 col16\" >255</td>\n",
              "      <td id=\"T_d7b0f_row3_col17\" class=\"data row3 col17\" >191</td>\n",
              "    </tr>\n",
              "    <tr>\n",
              "      <th id=\"T_d7b0f_level0_row4\" class=\"row_heading level0 row4\" >4</th>\n",
              "      <td id=\"T_d7b0f_row4_col0\" class=\"data row4 col0\" >0</td>\n",
              "      <td id=\"T_d7b0f_row4_col1\" class=\"data row4 col1\" >0</td>\n",
              "      <td id=\"T_d7b0f_row4_col2\" class=\"data row4 col2\" >0</td>\n",
              "      <td id=\"T_d7b0f_row4_col3\" class=\"data row4 col3\" >0</td>\n",
              "      <td id=\"T_d7b0f_row4_col4\" class=\"data row4 col4\" >0</td>\n",
              "      <td id=\"T_d7b0f_row4_col5\" class=\"data row4 col5\" >0</td>\n",
              "      <td id=\"T_d7b0f_row4_col6\" class=\"data row4 col6\" >0</td>\n",
              "      <td id=\"T_d7b0f_row4_col7\" class=\"data row4 col7\" >0</td>\n",
              "      <td id=\"T_d7b0f_row4_col8\" class=\"data row4 col8\" >0</td>\n",
              "      <td id=\"T_d7b0f_row4_col9\" class=\"data row4 col9\" >128</td>\n",
              "      <td id=\"T_d7b0f_row4_col10\" class=\"data row4 col10\" >191</td>\n",
              "      <td id=\"T_d7b0f_row4_col11\" class=\"data row4 col11\" >128</td>\n",
              "      <td id=\"T_d7b0f_row4_col12\" class=\"data row4 col12\" >255</td>\n",
              "      <td id=\"T_d7b0f_row4_col13\" class=\"data row4 col13\" >255</td>\n",
              "      <td id=\"T_d7b0f_row4_col14\" class=\"data row4 col14\" >255</td>\n",
              "      <td id=\"T_d7b0f_row4_col15\" class=\"data row4 col15\" >255</td>\n",
              "      <td id=\"T_d7b0f_row4_col16\" class=\"data row4 col16\" >255</td>\n",
              "      <td id=\"T_d7b0f_row4_col17\" class=\"data row4 col17\" >255</td>\n",
              "    </tr>\n",
              "    <tr>\n",
              "      <th id=\"T_d7b0f_level0_row5\" class=\"row_heading level0 row5\" >5</th>\n",
              "      <td id=\"T_d7b0f_row5_col0\" class=\"data row5 col0\" >0</td>\n",
              "      <td id=\"T_d7b0f_row5_col1\" class=\"data row5 col1\" >0</td>\n",
              "      <td id=\"T_d7b0f_row5_col2\" class=\"data row5 col2\" >0</td>\n",
              "      <td id=\"T_d7b0f_row5_col3\" class=\"data row5 col3\" >0</td>\n",
              "      <td id=\"T_d7b0f_row5_col4\" class=\"data row5 col4\" >0</td>\n",
              "      <td id=\"T_d7b0f_row5_col5\" class=\"data row5 col5\" >0</td>\n",
              "      <td id=\"T_d7b0f_row5_col6\" class=\"data row5 col6\" >64</td>\n",
              "      <td id=\"T_d7b0f_row5_col7\" class=\"data row5 col7\" >128</td>\n",
              "      <td id=\"T_d7b0f_row5_col8\" class=\"data row5 col8\" >255</td>\n",
              "      <td id=\"T_d7b0f_row5_col9\" class=\"data row5 col9\" >255</td>\n",
              "      <td id=\"T_d7b0f_row5_col10\" class=\"data row5 col10\" >255</td>\n",
              "      <td id=\"T_d7b0f_row5_col11\" class=\"data row5 col11\" >255</td>\n",
              "      <td id=\"T_d7b0f_row5_col12\" class=\"data row5 col12\" >255</td>\n",
              "      <td id=\"T_d7b0f_row5_col13\" class=\"data row5 col13\" >255</td>\n",
              "      <td id=\"T_d7b0f_row5_col14\" class=\"data row5 col14\" >255</td>\n",
              "      <td id=\"T_d7b0f_row5_col15\" class=\"data row5 col15\" >255</td>\n",
              "      <td id=\"T_d7b0f_row5_col16\" class=\"data row5 col16\" >255</td>\n",
              "      <td id=\"T_d7b0f_row5_col17\" class=\"data row5 col17\" >255</td>\n",
              "    </tr>\n",
              "    <tr>\n",
              "      <th id=\"T_d7b0f_level0_row6\" class=\"row_heading level0 row6\" >6</th>\n",
              "      <td id=\"T_d7b0f_row6_col0\" class=\"data row6 col0\" >0</td>\n",
              "      <td id=\"T_d7b0f_row6_col1\" class=\"data row6 col1\" >0</td>\n",
              "      <td id=\"T_d7b0f_row6_col2\" class=\"data row6 col2\" >0</td>\n",
              "      <td id=\"T_d7b0f_row6_col3\" class=\"data row6 col3\" >0</td>\n",
              "      <td id=\"T_d7b0f_row6_col4\" class=\"data row6 col4\" >64</td>\n",
              "      <td id=\"T_d7b0f_row6_col5\" class=\"data row6 col5\" >191</td>\n",
              "      <td id=\"T_d7b0f_row6_col6\" class=\"data row6 col6\" >255</td>\n",
              "      <td id=\"T_d7b0f_row6_col7\" class=\"data row6 col7\" >255</td>\n",
              "      <td id=\"T_d7b0f_row6_col8\" class=\"data row6 col8\" >255</td>\n",
              "      <td id=\"T_d7b0f_row6_col9\" class=\"data row6 col9\" >255</td>\n",
              "      <td id=\"T_d7b0f_row6_col10\" class=\"data row6 col10\" >255</td>\n",
              "      <td id=\"T_d7b0f_row6_col11\" class=\"data row6 col11\" >255</td>\n",
              "      <td id=\"T_d7b0f_row6_col12\" class=\"data row6 col12\" >191</td>\n",
              "      <td id=\"T_d7b0f_row6_col13\" class=\"data row6 col13\" >128</td>\n",
              "      <td id=\"T_d7b0f_row6_col14\" class=\"data row6 col14\" >128</td>\n",
              "      <td id=\"T_d7b0f_row6_col15\" class=\"data row6 col15\" >255</td>\n",
              "      <td id=\"T_d7b0f_row6_col16\" class=\"data row6 col16\" >255</td>\n",
              "      <td id=\"T_d7b0f_row6_col17\" class=\"data row6 col17\" >64</td>\n",
              "    </tr>\n",
              "    <tr>\n",
              "      <th id=\"T_d7b0f_level0_row7\" class=\"row_heading level0 row7\" >7</th>\n",
              "      <td id=\"T_d7b0f_row7_col0\" class=\"data row7 col0\" >0</td>\n",
              "      <td id=\"T_d7b0f_row7_col1\" class=\"data row7 col1\" >0</td>\n",
              "      <td id=\"T_d7b0f_row7_col2\" class=\"data row7 col2\" >0</td>\n",
              "      <td id=\"T_d7b0f_row7_col3\" class=\"data row7 col3\" >0</td>\n",
              "      <td id=\"T_d7b0f_row7_col4\" class=\"data row7 col4\" >255</td>\n",
              "      <td id=\"T_d7b0f_row7_col5\" class=\"data row7 col5\" >255</td>\n",
              "      <td id=\"T_d7b0f_row7_col6\" class=\"data row7 col6\" >255</td>\n",
              "      <td id=\"T_d7b0f_row7_col7\" class=\"data row7 col7\" >255</td>\n",
              "      <td id=\"T_d7b0f_row7_col8\" class=\"data row7 col8\" >255</td>\n",
              "      <td id=\"T_d7b0f_row7_col9\" class=\"data row7 col9\" >255</td>\n",
              "      <td id=\"T_d7b0f_row7_col10\" class=\"data row7 col10\" >191</td>\n",
              "      <td id=\"T_d7b0f_row7_col11\" class=\"data row7 col11\" >128</td>\n",
              "      <td id=\"T_d7b0f_row7_col12\" class=\"data row7 col12\" >0</td>\n",
              "      <td id=\"T_d7b0f_row7_col13\" class=\"data row7 col13\" >0</td>\n",
              "      <td id=\"T_d7b0f_row7_col14\" class=\"data row7 col14\" >255</td>\n",
              "      <td id=\"T_d7b0f_row7_col15\" class=\"data row7 col15\" >255</td>\n",
              "      <td id=\"T_d7b0f_row7_col16\" class=\"data row7 col16\" >255</td>\n",
              "      <td id=\"T_d7b0f_row7_col17\" class=\"data row7 col17\" >0</td>\n",
              "    </tr>\n",
              "    <tr>\n",
              "      <th id=\"T_d7b0f_level0_row8\" class=\"row_heading level0 row8\" >8</th>\n",
              "      <td id=\"T_d7b0f_row8_col0\" class=\"data row8 col0\" >0</td>\n",
              "      <td id=\"T_d7b0f_row8_col1\" class=\"data row8 col1\" >0</td>\n",
              "      <td id=\"T_d7b0f_row8_col2\" class=\"data row8 col2\" >0</td>\n",
              "      <td id=\"T_d7b0f_row8_col3\" class=\"data row8 col3\" >0</td>\n",
              "      <td id=\"T_d7b0f_row8_col4\" class=\"data row8 col4\" >255</td>\n",
              "      <td id=\"T_d7b0f_row8_col5\" class=\"data row8 col5\" >255</td>\n",
              "      <td id=\"T_d7b0f_row8_col6\" class=\"data row8 col6\" >255</td>\n",
              "      <td id=\"T_d7b0f_row8_col7\" class=\"data row8 col7\" >255</td>\n",
              "      <td id=\"T_d7b0f_row8_col8\" class=\"data row8 col8\" >128</td>\n",
              "      <td id=\"T_d7b0f_row8_col9\" class=\"data row8 col9\" >0</td>\n",
              "      <td id=\"T_d7b0f_row8_col10\" class=\"data row8 col10\" >0</td>\n",
              "      <td id=\"T_d7b0f_row8_col11\" class=\"data row8 col11\" >0</td>\n",
              "      <td id=\"T_d7b0f_row8_col12\" class=\"data row8 col12\" >0</td>\n",
              "      <td id=\"T_d7b0f_row8_col13\" class=\"data row8 col13\" >64</td>\n",
              "      <td id=\"T_d7b0f_row8_col14\" class=\"data row8 col14\" >255</td>\n",
              "      <td id=\"T_d7b0f_row8_col15\" class=\"data row8 col15\" >255</td>\n",
              "      <td id=\"T_d7b0f_row8_col16\" class=\"data row8 col16\" >64</td>\n",
              "      <td id=\"T_d7b0f_row8_col17\" class=\"data row8 col17\" >0</td>\n",
              "    </tr>\n",
              "    <tr>\n",
              "      <th id=\"T_d7b0f_level0_row9\" class=\"row_heading level0 row9\" >9</th>\n",
              "      <td id=\"T_d7b0f_row9_col0\" class=\"data row9 col0\" >0</td>\n",
              "      <td id=\"T_d7b0f_row9_col1\" class=\"data row9 col1\" >0</td>\n",
              "      <td id=\"T_d7b0f_row9_col2\" class=\"data row9 col2\" >0</td>\n",
              "      <td id=\"T_d7b0f_row9_col3\" class=\"data row9 col3\" >0</td>\n",
              "      <td id=\"T_d7b0f_row9_col4\" class=\"data row9 col4\" >191</td>\n",
              "      <td id=\"T_d7b0f_row9_col5\" class=\"data row9 col5\" >255</td>\n",
              "      <td id=\"T_d7b0f_row9_col6\" class=\"data row9 col6\" >191</td>\n",
              "      <td id=\"T_d7b0f_row9_col7\" class=\"data row9 col7\" >0</td>\n",
              "      <td id=\"T_d7b0f_row9_col8\" class=\"data row9 col8\" >0</td>\n",
              "      <td id=\"T_d7b0f_row9_col9\" class=\"data row9 col9\" >0</td>\n",
              "      <td id=\"T_d7b0f_row9_col10\" class=\"data row9 col10\" >0</td>\n",
              "      <td id=\"T_d7b0f_row9_col11\" class=\"data row9 col11\" >0</td>\n",
              "      <td id=\"T_d7b0f_row9_col12\" class=\"data row9 col12\" >0</td>\n",
              "      <td id=\"T_d7b0f_row9_col13\" class=\"data row9 col13\" >191</td>\n",
              "      <td id=\"T_d7b0f_row9_col14\" class=\"data row9 col14\" >255</td>\n",
              "      <td id=\"T_d7b0f_row9_col15\" class=\"data row9 col15\" >255</td>\n",
              "      <td id=\"T_d7b0f_row9_col16\" class=\"data row9 col16\" >0</td>\n",
              "      <td id=\"T_d7b0f_row9_col17\" class=\"data row9 col17\" >0</td>\n",
              "    </tr>\n",
              "    <tr>\n",
              "      <th id=\"T_d7b0f_level0_row10\" class=\"row_heading level0 row10\" >10</th>\n",
              "      <td id=\"T_d7b0f_row10_col0\" class=\"data row10 col0\" >0</td>\n",
              "      <td id=\"T_d7b0f_row10_col1\" class=\"data row10 col1\" >0</td>\n",
              "      <td id=\"T_d7b0f_row10_col2\" class=\"data row10 col2\" >0</td>\n",
              "      <td id=\"T_d7b0f_row10_col3\" class=\"data row10 col3\" >0</td>\n",
              "      <td id=\"T_d7b0f_row10_col4\" class=\"data row10 col4\" >0</td>\n",
              "      <td id=\"T_d7b0f_row10_col5\" class=\"data row10 col5\" >0</td>\n",
              "      <td id=\"T_d7b0f_row10_col6\" class=\"data row10 col6\" >0</td>\n",
              "      <td id=\"T_d7b0f_row10_col7\" class=\"data row10 col7\" >0</td>\n",
              "      <td id=\"T_d7b0f_row10_col8\" class=\"data row10 col8\" >0</td>\n",
              "      <td id=\"T_d7b0f_row10_col9\" class=\"data row10 col9\" >0</td>\n",
              "      <td id=\"T_d7b0f_row10_col10\" class=\"data row10 col10\" >0</td>\n",
              "      <td id=\"T_d7b0f_row10_col11\" class=\"data row10 col11\" >0</td>\n",
              "      <td id=\"T_d7b0f_row10_col12\" class=\"data row10 col12\" >128</td>\n",
              "      <td id=\"T_d7b0f_row10_col13\" class=\"data row10 col13\" >255</td>\n",
              "      <td id=\"T_d7b0f_row10_col14\" class=\"data row10 col14\" >255</td>\n",
              "      <td id=\"T_d7b0f_row10_col15\" class=\"data row10 col15\" >128</td>\n",
              "      <td id=\"T_d7b0f_row10_col16\" class=\"data row10 col16\" >0</td>\n",
              "      <td id=\"T_d7b0f_row10_col17\" class=\"data row10 col17\" >0</td>\n",
              "    </tr>\n",
              "  </tbody>\n",
              "</table>\n"
            ]
          },
          "metadata": {},
          "execution_count": 15
        }
      ]
    },
    {
      "cell_type": "code",
      "source": [
        "seven_tensors = [tensor(Image.open(o)) for o in sevens]\n",
        "three_tensors = [tensor(Image.open(o)) for o in threes]\n",
        "len(three_tensors),len(seven_tensors)"
      ],
      "metadata": {
        "colab": {
          "base_uri": "https://localhost:8080/"
        },
        "id": "CmQTiDNncWYu",
        "outputId": "1b05dd78-e8a3-40b7-98b3-9d776efc6622"
      },
      "execution_count": 16,
      "outputs": [
        {
          "output_type": "execute_result",
          "data": {
            "text/plain": [
              "(6131, 6265)"
            ]
          },
          "metadata": {},
          "execution_count": 16
        }
      ]
    },
    {
      "cell_type": "code",
      "source": [
        "stacked_sevens = torch.stack(seven_tensors).float()/255\n",
        "stacked_threes = torch.stack(three_tensors).float()/255\n",
        "stacked_threes.shape"
      ],
      "metadata": {
        "colab": {
          "base_uri": "https://localhost:8080/"
        },
        "id": "Dh0gt6wseipq",
        "outputId": "01b1983a-1c85-474c-c74b-3e9fe4baff1d"
      },
      "execution_count": 17,
      "outputs": [
        {
          "output_type": "execute_result",
          "data": {
            "text/plain": [
              "torch.Size([6131, 28, 28])"
            ]
          },
          "metadata": {},
          "execution_count": 17
        }
      ]
    },
    {
      "cell_type": "code",
      "source": [
        "stacked_threes.ndim"
      ],
      "metadata": {
        "colab": {
          "base_uri": "https://localhost:8080/"
        },
        "id": "N0i1WvoZfOcL",
        "outputId": "e27f132c-c8bf-49b1-96bb-e73ed6301252"
      },
      "execution_count": 18,
      "outputs": [
        {
          "output_type": "execute_result",
          "data": {
            "text/plain": [
              "3"
            ]
          },
          "metadata": {},
          "execution_count": 18
        }
      ]
    },
    {
      "cell_type": "code",
      "source": [
        "mean3 = stacked_threes.mean(0)\n",
        "show_image(mean3);"
      ],
      "metadata": {
        "colab": {
          "base_uri": "https://localhost:8080/",
          "height": 114
        },
        "id": "vnjHYwJMfWlL",
        "outputId": "9155fb1c-bb89-44af-e0a4-3f432e86a573"
      },
      "execution_count": 19,
      "outputs": [
        {
          "output_type": "display_data",
          "data": {
            "text/plain": [
              "<Figure size 100x100 with 1 Axes>"
            ],
            "image/png": "[encoded data removed]"
          },
          "metadata": {}
        }
      ]
    },
    {
      "cell_type": "code",
      "source": [
        "mean7 = stacked_sevens.mean(0)\n",
        "show_image(mean7);"
      ],
      "metadata": {
        "colab": {
          "base_uri": "https://localhost:8080/",
          "height": 114
        },
        "id": "yBqnZglRfqIa",
        "outputId": "2c50cdeb-308e-4008-9e2e-cd1d77963d51"
      },
      "execution_count": 20,
      "outputs": [
        {
          "output_type": "display_data",
          "data": {
            "text/plain": [
              "<Figure size 100x100 with 1 Axes>"
            ],
            "image/png": "[encoded data removed]"
          },
          "metadata": {}
        }
      ]
    },
    {
      "cell_type": "code",
      "source": [
        "a_3 = stacked_threes[1]\n",
        "show_image(a_3);"
      ],
      "metadata": {
        "colab": {
          "base_uri": "https://localhost:8080/",
          "height": 114
        },
        "id": "5bZjtwp_fu2D",
        "outputId": "efae6fb6-754d-48c9-be55-bfc57451048a"
      },
      "execution_count": 21,
      "outputs": [
        {
          "output_type": "display_data",
          "data": {
            "text/plain": [
              "<Figure size 100x100 with 1 Axes>"
            ],
            "image/png": "[encoded data removed]"
          },
          "metadata": {}
        }
      ]
    },
    {
      "cell_type": "code",
      "source": [
        "F.l1_loss(a_3.float(),mean7), F.mse_loss(a_3,mean7).sqrt()"
      ],
      "metadata": {
        "colab": {
          "base_uri": "https://localhost:8080/"
        },
        "id": "o2JAGVEbgdUJ",
        "outputId": "696ca25e-c297-4f46-a140-ee4bd50c7fe0"
      },
      "execution_count": 22,
      "outputs": [
        {
          "output_type": "execute_result",
          "data": {
            "text/plain": [
              "(tensor(0.1586), tensor(0.3021))"
            ]
          },
          "metadata": {},
          "execution_count": 22
        }
      ]
    },
    {
      "cell_type": "code",
      "source": [
        "F.l1_loss(a_3.float(),mean3), F.mse_loss(a_3,mean3).sqrt()"
      ],
      "metadata": {
        "colab": {
          "base_uri": "https://localhost:8080/"
        },
        "id": "VieUyG9ugkDq",
        "outputId": "d79e6d77-9c19-4732-d8f8-b34d348f4b1a"
      },
      "execution_count": 23,
      "outputs": [
        {
          "output_type": "execute_result",
          "data": {
            "text/plain": [
              "(tensor(0.1114), tensor(0.2021))"
            ]
          },
          "metadata": {},
          "execution_count": 23
        }
      ]
    },
    {
      "cell_type": "markdown",
      "source": [
        "Hence the simple mathematical model works !!  (L1 norm (absolute mean error) and L2 norm (root mean squared error))"
      ],
      "metadata": {
        "id": "PETC2Jo8gov1"
      }
    },
    {
      "cell_type": "code",
      "source": [
        "valid_3_tens = torch.stack([tensor(Image.open(o))\n",
        "                            for o in (path/'valid'/'3').ls()])\n",
        "valid_3_tens = valid_3_tens.float()/255\n",
        "valid_7_tens = torch.stack([tensor(Image.open(o))\n",
        "                            for o in (path/'valid'/'7').ls()])\n",
        "valid_7_tens = valid_7_tens.float()/255\n",
        "valid_3_tens.shape,valid_7_tens.shape"
      ],
      "metadata": {
        "colab": {
          "base_uri": "https://localhost:8080/"
        },
        "id": "Uug6alAigm-i",
        "outputId": "6f418329-3262-48bb-bc9d-4e291377d836"
      },
      "execution_count": 24,
      "outputs": [
        {
          "output_type": "execute_result",
          "data": {
            "text/plain": [
              "(torch.Size([1010, 28, 28]), torch.Size([1028, 28, 28]))"
            ]
          },
          "metadata": {},
          "execution_count": 24
        }
      ]
    },
    {
      "cell_type": "code",
      "source": [
        "def mnist_distance(a,b): return (a-b).abs().mean((-1,-2))"
      ],
      "metadata": {
        "id": "ZqWm1pjgm9or"
      },
      "execution_count": 25,
      "outputs": []
    },
    {
      "cell_type": "code",
      "source": [
        "def is_3(x): return mnist_distance(x,mean3) < mnist_distance(x,mean7)"
      ],
      "metadata": {
        "id": "twSpTBS6qUOJ"
      },
      "execution_count": 26,
      "outputs": []
    },
    {
      "cell_type": "code",
      "source": [
        "accuracy_3s =      is_3(valid_3_tens).float() .mean()\n",
        "accuracy_7s = (1 - is_3(valid_7_tens).float()).mean()\n",
        "\n",
        "accuracy_3s,accuracy_7s,(accuracy_3s+accuracy_7s)/2"
      ],
      "metadata": {
        "colab": {
          "base_uri": "https://localhost:8080/"
        },
        "id": "LmlZ-8LZqh3e",
        "outputId": "3ed0c0fa-ede1-4d8f-c97e-ef655e2bca5d"
      },
      "execution_count": 27,
      "outputs": [
        {
          "output_type": "execute_result",
          "data": {
            "text/plain": [
              "(tensor(0.9168), tensor(0.9854), tensor(0.9511))"
            ]
          },
          "metadata": {},
          "execution_count": 27
        }
      ]
    },
    {
      "cell_type": "code",
      "source": [],
      "metadata": {
        "id": "alCY74cvqlV1"
      },
      "execution_count": null,
      "outputs": []
    }
  ]
}